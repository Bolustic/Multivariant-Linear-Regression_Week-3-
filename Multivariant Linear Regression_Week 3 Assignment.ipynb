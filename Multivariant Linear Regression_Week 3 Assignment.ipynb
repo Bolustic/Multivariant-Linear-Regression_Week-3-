{
 "cells": [
  {
   "cell_type": "markdown",
   "metadata": {},
   "source": [
    "# Multivariant Linear Regression"
   ]
  },
  {
   "cell_type": "markdown",
   "metadata": {},
   "source": [
    "The data we will be using is a ex1data2.txt file which contains a list of bedroom sizes, number of bedrooms and their corresponding price of the house.\n",
    "\n",
    "The values on the first column contains the bedroom sizes, the values of the second column contains the number of bedrooms and values on the third column contains the corresponding price of the house in Naira.\n",
    "\n",
    "Objective: To build a multivariate linear regression model and the optimization technique to generate a model that will predict reasonable estimate of a house price when it is supplied the customers desired room size and number of rooms."
   ]
  },
  {
   "cell_type": "code",
   "execution_count": 51,
   "metadata": {},
   "outputs": [],
   "source": [
    "import pandas as pd  \n",
    "import numpy as np  \n",
    "import matplotlib.pyplot as plt  \n",
    "import seaborn as seabornInstance \n",
    "from sklearn.model_selection import train_test_split \n",
    "from sklearn.linear_model import LinearRegression\n",
    "from sklearn import metrics\n",
    "%matplotlib inline"
   ]
  },
  {
   "cell_type": "code",
   "execution_count": 52,
   "metadata": {},
   "outputs": [],
   "source": [
    "#loading dataset\n",
    "column_names = [\"size\",\"bedroom\",\"price\"]\n",
    "data = pd.read_csv('data/ex1data2.txt', names = column_names)"
   ]
  },
  {
   "cell_type": "code",
   "execution_count": 53,
   "metadata": {},
   "outputs": [
    {
     "data": {
      "text/html": [
       "<div>\n",
       "<style scoped>\n",
       "    .dataframe tbody tr th:only-of-type {\n",
       "        vertical-align: middle;\n",
       "    }\n",
       "\n",
       "    .dataframe tbody tr th {\n",
       "        vertical-align: top;\n",
       "    }\n",
       "\n",
       "    .dataframe thead th {\n",
       "        text-align: right;\n",
       "    }\n",
       "</style>\n",
       "<table border=\"1\" class=\"dataframe\">\n",
       "  <thead>\n",
       "    <tr style=\"text-align: right;\">\n",
       "      <th></th>\n",
       "      <th>size</th>\n",
       "      <th>bedroom</th>\n",
       "      <th>price</th>\n",
       "    </tr>\n",
       "  </thead>\n",
       "  <tbody>\n",
       "    <tr>\n",
       "      <th>1</th>\n",
       "      <td>1600</td>\n",
       "      <td>3</td>\n",
       "      <td>329900</td>\n",
       "    </tr>\n",
       "    <tr>\n",
       "      <th>38</th>\n",
       "      <td>4215</td>\n",
       "      <td>4</td>\n",
       "      <td>549000</td>\n",
       "    </tr>\n",
       "    <tr>\n",
       "      <th>17</th>\n",
       "      <td>1236</td>\n",
       "      <td>3</td>\n",
       "      <td>199900</td>\n",
       "    </tr>\n",
       "    <tr>\n",
       "      <th>37</th>\n",
       "      <td>2132</td>\n",
       "      <td>4</td>\n",
       "      <td>345000</td>\n",
       "    </tr>\n",
       "    <tr>\n",
       "      <th>24</th>\n",
       "      <td>3890</td>\n",
       "      <td>3</td>\n",
       "      <td>573900</td>\n",
       "    </tr>\n",
       "  </tbody>\n",
       "</table>\n",
       "</div>"
      ],
      "text/plain": [
       "    size  bedroom   price\n",
       "1   1600        3  329900\n",
       "38  4215        4  549000\n",
       "17  1236        3  199900\n",
       "37  2132        4  345000\n",
       "24  3890        3  573900"
      ]
     },
     "execution_count": 53,
     "metadata": {},
     "output_type": "execute_result"
    }
   ],
   "source": [
    "#a little exploration\n",
    "data.sample(5)"
   ]
  },
  {
   "cell_type": "code",
   "execution_count": 54,
   "metadata": {},
   "outputs": [
    {
     "name": "stdout",
     "output_type": "stream",
     "text": [
      "data shape: (47, 3), row size: 47, column size: 3\n"
     ]
    }
   ],
   "source": [
    "print('data shape: {}, row size: {}, column size: {}' \\\n",
    "      .format(data.shape, data.shape[0], data.shape[1]))"
   ]
  },
  {
   "cell_type": "code",
   "execution_count": 55,
   "metadata": {},
   "outputs": [
    {
     "data": {
      "text/html": [
       "<div>\n",
       "<style scoped>\n",
       "    .dataframe tbody tr th:only-of-type {\n",
       "        vertical-align: middle;\n",
       "    }\n",
       "\n",
       "    .dataframe tbody tr th {\n",
       "        vertical-align: top;\n",
       "    }\n",
       "\n",
       "    .dataframe thead th {\n",
       "        text-align: right;\n",
       "    }\n",
       "</style>\n",
       "<table border=\"1\" class=\"dataframe\">\n",
       "  <thead>\n",
       "    <tr style=\"text-align: right;\">\n",
       "      <th></th>\n",
       "      <th>size</th>\n",
       "      <th>bedroom</th>\n",
       "      <th>price</th>\n",
       "    </tr>\n",
       "  </thead>\n",
       "  <tbody>\n",
       "    <tr>\n",
       "      <th>count</th>\n",
       "      <td>47.000000</td>\n",
       "      <td>47.000000</td>\n",
       "      <td>47.000000</td>\n",
       "    </tr>\n",
       "    <tr>\n",
       "      <th>mean</th>\n",
       "      <td>2000.680851</td>\n",
       "      <td>3.170213</td>\n",
       "      <td>340412.659574</td>\n",
       "    </tr>\n",
       "    <tr>\n",
       "      <th>std</th>\n",
       "      <td>794.702354</td>\n",
       "      <td>0.760982</td>\n",
       "      <td>125039.899586</td>\n",
       "    </tr>\n",
       "    <tr>\n",
       "      <th>min</th>\n",
       "      <td>852.000000</td>\n",
       "      <td>1.000000</td>\n",
       "      <td>169900.000000</td>\n",
       "    </tr>\n",
       "    <tr>\n",
       "      <th>25%</th>\n",
       "      <td>1432.000000</td>\n",
       "      <td>3.000000</td>\n",
       "      <td>249900.000000</td>\n",
       "    </tr>\n",
       "    <tr>\n",
       "      <th>50%</th>\n",
       "      <td>1888.000000</td>\n",
       "      <td>3.000000</td>\n",
       "      <td>299900.000000</td>\n",
       "    </tr>\n",
       "    <tr>\n",
       "      <th>75%</th>\n",
       "      <td>2269.000000</td>\n",
       "      <td>4.000000</td>\n",
       "      <td>384450.000000</td>\n",
       "    </tr>\n",
       "    <tr>\n",
       "      <th>max</th>\n",
       "      <td>4478.000000</td>\n",
       "      <td>5.000000</td>\n",
       "      <td>699900.000000</td>\n",
       "    </tr>\n",
       "  </tbody>\n",
       "</table>\n",
       "</div>"
      ],
      "text/plain": [
       "              size    bedroom          price\n",
       "count    47.000000  47.000000      47.000000\n",
       "mean   2000.680851   3.170213  340412.659574\n",
       "std     794.702354   0.760982  125039.899586\n",
       "min     852.000000   1.000000  169900.000000\n",
       "25%    1432.000000   3.000000  249900.000000\n",
       "50%    1888.000000   3.000000  299900.000000\n",
       "75%    2269.000000   4.000000  384450.000000\n",
       "max    4478.000000   5.000000  699900.000000"
      ]
     },
     "execution_count": 55,
     "metadata": {},
     "output_type": "execute_result"
    }
   ],
   "source": [
    "data.describe()"
   ]
  },
  {
   "cell_type": "code",
   "execution_count": 56,
   "metadata": {},
   "outputs": [
    {
     "data": {
      "text/plain": [
       "size       False\n",
       "bedroom    False\n",
       "price      False\n",
       "dtype: bool"
      ]
     },
     "execution_count": 56,
     "metadata": {},
     "output_type": "execute_result"
    }
   ],
   "source": [
    "#checking for empty cells\n",
    "data.isnull().any()"
   ]
  },
  {
   "cell_type": "code",
   "execution_count": 57,
   "metadata": {},
   "outputs": [
    {
     "data": {
      "text/html": [
       "<style  type=\"text/css\" >\n",
       "    #T_aa6e0928_e6e0_11e9_a842_002713526eadrow0_col0 {\n",
       "            background-color:  #5e4fa2;\n",
       "        }    #T_aa6e0928_e6e0_11e9_a842_002713526eadrow0_col1 {\n",
       "            background-color:  #f57547;\n",
       "        }    #T_aa6e0928_e6e0_11e9_a842_002713526eadrow0_col2 {\n",
       "            background-color:  #8fd2a4;\n",
       "        }    #T_aa6e0928_e6e0_11e9_a842_002713526eadrow1_col0 {\n",
       "            background-color:  #9e0142;\n",
       "        }    #T_aa6e0928_e6e0_11e9_a842_002713526eadrow1_col1 {\n",
       "            background-color:  #5e4fa2;\n",
       "        }    #T_aa6e0928_e6e0_11e9_a842_002713526eadrow1_col2 {\n",
       "            background-color:  #9e0142;\n",
       "        }    #T_aa6e0928_e6e0_11e9_a842_002713526eadrow2_col0 {\n",
       "            background-color:  #bce4a0;\n",
       "        }    #T_aa6e0928_e6e0_11e9_a842_002713526eadrow2_col1 {\n",
       "            background-color:  #9e0142;\n",
       "        }    #T_aa6e0928_e6e0_11e9_a842_002713526eadrow2_col2 {\n",
       "            background-color:  #5e4fa2;\n",
       "        }</style>  \n",
       "<table id=\"T_aa6e0928_e6e0_11e9_a842_002713526ead\" > \n",
       "<thead>    <tr> \n",
       "        <th class=\"blank level0\" ></th> \n",
       "        <th class=\"col_heading level0 col0\" >size</th> \n",
       "        <th class=\"col_heading level0 col1\" >bedroom</th> \n",
       "        <th class=\"col_heading level0 col2\" >price</th> \n",
       "    </tr></thead> \n",
       "<tbody>    <tr> \n",
       "        <th id=\"T_aa6e0928_e6e0_11e9_a842_002713526eadlevel0_row0\" class=\"row_heading level0 row0\" >size</th> \n",
       "        <td id=\"T_aa6e0928_e6e0_11e9_a842_002713526eadrow0_col0\" class=\"data row0 col0\" >1</td> \n",
       "        <td id=\"T_aa6e0928_e6e0_11e9_a842_002713526eadrow0_col1\" class=\"data row0 col1\" >0.559967</td> \n",
       "        <td id=\"T_aa6e0928_e6e0_11e9_a842_002713526eadrow0_col2\" class=\"data row0 col2\" >0.854988</td> \n",
       "    </tr>    <tr> \n",
       "        <th id=\"T_aa6e0928_e6e0_11e9_a842_002713526eadlevel0_row1\" class=\"row_heading level0 row1\" >bedroom</th> \n",
       "        <td id=\"T_aa6e0928_e6e0_11e9_a842_002713526eadrow1_col0\" class=\"data row1 col0\" >0.559967</td> \n",
       "        <td id=\"T_aa6e0928_e6e0_11e9_a842_002713526eadrow1_col1\" class=\"data row1 col1\" >1</td> \n",
       "        <td id=\"T_aa6e0928_e6e0_11e9_a842_002713526eadrow1_col2\" class=\"data row1 col2\" >0.442261</td> \n",
       "    </tr>    <tr> \n",
       "        <th id=\"T_aa6e0928_e6e0_11e9_a842_002713526eadlevel0_row2\" class=\"row_heading level0 row2\" >price</th> \n",
       "        <td id=\"T_aa6e0928_e6e0_11e9_a842_002713526eadrow2_col0\" class=\"data row2 col0\" >0.854988</td> \n",
       "        <td id=\"T_aa6e0928_e6e0_11e9_a842_002713526eadrow2_col1\" class=\"data row2 col1\" >0.442261</td> \n",
       "        <td id=\"T_aa6e0928_e6e0_11e9_a842_002713526eadrow2_col2\" class=\"data row2 col2\" >1</td> \n",
       "    </tr></tbody> \n",
       "</table> "
      ],
      "text/plain": [
       "<pandas.io.formats.style.Styler at 0x17c3120f4a8>"
      ]
     },
     "execution_count": 57,
     "metadata": {},
     "output_type": "execute_result"
    }
   ],
   "source": [
    "# Correlation \n",
    "corr = data.corr()\n",
    "corr.style.background_gradient(cmap='Spectral')"
   ]
  },
  {
   "cell_type": "markdown",
   "metadata": {},
   "source": [
    "the result shows positive correlation among between the variables ranging from a medium 0.44 (price vs bedroom) to high 0.85 (size vs price)"
   ]
  },
  {
   "cell_type": "code",
   "execution_count": 58,
   "metadata": {},
   "outputs": [],
   "source": [
    "#lets divide the data into “attributes” and “labels”. X variable contains all the attributes/features of the house (independent) and y variable contains labels (price/dependent variable)\n",
    "\n",
    "X = data[['size', 'bedroom']].values\n",
    "y = data[['price']].values"
   ]
  },
  {
   "cell_type": "code",
   "execution_count": 59,
   "metadata": {},
   "outputs": [
    {
     "name": "stderr",
     "output_type": "stream",
     "text": [
      "C:\\Users\\user\\Anaconda3\\lib\\site-packages\\matplotlib\\axes\\_axes.py:6462: UserWarning: The 'normed' kwarg is deprecated, and has been replaced by the 'density' kwarg.\n",
      "  warnings.warn(\"The 'normed' kwarg is deprecated, and has been \"\n"
     ]
    },
    {
     "data": {
      "text/plain": [
       "<matplotlib.axes._subplots.AxesSubplot at 0x17c31219198>"
      ]
     },
     "execution_count": 59,
     "metadata": {},
     "output_type": "execute_result"
    },
    {
     "data": {
      "image/png": "[encoded data removed]",
      "text/plain": [
       "<Figure size 1080x720 with 1 Axes>"
      ]
     },
     "metadata": {},
     "output_type": "display_data"
    }
   ],
   "source": [
    "#a quick check on the average price of the houses\n",
    "plt.figure(figsize=(15,10))\n",
    "plt.tight_layout()\n",
    "seabornInstance.distplot(data['price'])"
   ]
  },
  {
   "cell_type": "markdown",
   "metadata": {},
   "source": [
    "As observed, most of the houses are between 200000 to 399999"
   ]
  },
  {
   "cell_type": "code",
   "execution_count": 60,
   "metadata": {},
   "outputs": [],
   "source": [
    "# Some splitting (80% of the data to the training set while 20% of the data to test set)\n",
    "\n",
    "X_train, X_test, y_train, y_test = train_test_split(X, y, test_size=0.2, random_state=0)"
   ]
  },
  {
   "cell_type": "code",
   "execution_count": 61,
   "metadata": {},
   "outputs": [
    {
     "data": {
      "text/plain": [
       "LinearRegression(copy_X=True, fit_intercept=True, n_jobs=1, normalize=False)"
      ]
     },
     "execution_count": 61,
     "metadata": {},
     "output_type": "execute_result"
    }
   ],
   "source": [
    "# training the model\n",
    "\n",
    "regressor = LinearRegression()  \n",
    "regressor.fit(X_train, y_train)"
   ]
  },
  {
   "cell_type": "code",
   "execution_count": 64,
   "metadata": {},
   "outputs": [
    {
     "name": "stdout",
     "output_type": "stream",
     "text": [
      "Intercept: \n",
      " [90561.37024101]\n",
      "Coefficients: \n",
      " [[  125.85346026 -1596.9314267 ]]\n"
     ]
    }
   ],
   "source": [
    "print('Intercept: \\n', regressor.intercept_)\n",
    "print('Coefficients: \\n', regressor.coef_)"
   ]
  },
  {
   "cell_type": "code",
   "execution_count": 67,
   "metadata": {},
   "outputs": [
    {
     "name": "stdout",
     "output_type": "stream",
     "text": [
      "price: \n",
      " [[592960.02081529]]\n"
     ]
    }
   ],
   "source": [
    "New_size = 4030\n",
    "New_bedroom = 3\n",
    "print ('price: \\n', regressor.predict([[New_size ,New_bedroom]]))\n"
   ]
  },
  {
   "cell_type": "code",
   "execution_count": 73,
   "metadata": {},
   "outputs": [
    {
     "name": "stdout",
     "output_type": "stream",
     "text": [
      "                            OLS Regression Results                            \n",
      "==============================================================================\n",
      "Dep. Variable:                      y   R-squared:                       0.733\n",
      "Model:                            OLS   Adj. R-squared:                  0.721\n",
      "Method:                 Least Squares   F-statistic:                     60.38\n",
      "Date:                Fri, 04 Oct 2019   Prob (F-statistic):           2.43e-13\n",
      "Time:                        21:11:31   Log-Likelihood:                -586.77\n",
      "No. Observations:                  47   AIC:                             1180.\n",
      "Df Residuals:                      44   BIC:                             1185.\n",
      "Df Model:                           2                                         \n",
      "Covariance Type:            nonrobust                                         \n",
      "==============================================================================\n",
      "                 coef    std err          t      P>|t|      [0.025      0.975]\n",
      "------------------------------------------------------------------------------\n",
      "const        8.96e+04   4.18e+04      2.145      0.037    5421.208    1.74e+05\n",
      "x1           139.2107     14.795      9.409      0.000     109.393     169.028\n",
      "x2         -8738.0191   1.55e+04     -0.566      0.575   -3.99e+04    2.24e+04\n",
      "==============================================================================\n",
      "Omnibus:                        4.083   Durbin-Watson:                   1.826\n",
      "Prob(Omnibus):                  0.130   Jarque-Bera (JB):                2.977\n",
      "Skew:                           0.567   Prob(JB):                        0.226\n",
      "Kurtosis:                       3.484   Cond. No.                     9.71e+03\n",
      "==============================================================================\n",
      "\n",
      "Warnings:\n",
      "[1] Standard Errors assume that the covariance matrix of the errors is correctly specified.\n",
      "[2] The condition number is large, 9.71e+03. This might indicate that there are\n",
      "strong multicollinearity or other numerical problems.\n"
     ]
    }
   ],
   "source": [
    "#A lil play with statsmodel. Could be discussed in class I guess\n",
    "\n",
    "import statsmodels.api as sm\n",
    "X = sm.add_constant(X) # adding a constant\n",
    " \n",
    "model = sm.OLS(y, X).fit()\n",
    "predictions = model.predict(X) \n",
    " \n",
    "print_model = model.summary()\n",
    "print(print_model)"
   ]
  },
  {
   "cell_type": "code",
   "execution_count": null,
   "metadata": {},
   "outputs": [],
   "source": []
  }
 ],
 "metadata": {
  "kernelspec": {
   "display_name": "Python 3",
   "language": "python",
   "name": "python3"
  },
  "language_info": {
   "codemirror_mode": {
    "name": "ipython",
    "version": 3
   },
   "file_extension": ".py",
   "mimetype": "text/x-python",
   "name": "python",
   "nbconvert_exporter": "python",
   "pygments_lexer": "ipython3",
   "version": "3.6.5"
  }
 },
 "nbformat": 4,
 "nbformat_minor": 2
}
